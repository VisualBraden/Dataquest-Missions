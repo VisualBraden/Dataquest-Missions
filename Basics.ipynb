{
 "cells": [
  {
   "cell_type": "markdown",
   "metadata": {},
   "source": [
    "## Jupyter - Basics Project Exploring US   Births Data##"
   ]
  },
  {
   "cell_type": "code",
   "execution_count": 1,
   "metadata": {},
   "outputs": [
    {
     "data": {
      "text/plain": [
       "'year,month,date_of_month,day_of_week,births'"
      ]
     },
     "execution_count": 1,
     "metadata": {},
     "output_type": "execute_result"
    }
   ],
   "source": [
    "    file_open = open(\"US_births_1994-2003_CDC_NCHS.csv\", 'r')\n",
    "    read_file = file_open.read()\n",
    "    header = read_file.split('\\n')\n",
    "    header[0]\n",
    "    "
   ]
  },
  {
   "cell_type": "markdown",
   "metadata": {},
   "source": [
    "Create function that reads in a CSV file and formats it into a list of lists containing integer values not strings."
   ]
  },
  {
   "cell_type": "code",
   "execution_count": 2,
   "metadata": {},
   "outputs": [
    {
     "data": {
      "text/plain": [
       "[[1994, 1, 1, 6, 8096],\n",
       " [1994, 1, 2, 7, 7772],\n",
       " [1994, 1, 3, 1, 10142],\n",
       " [1994, 1, 4, 2, 11248],\n",
       " [1994, 1, 5, 3, 11053],\n",
       " [1994, 1, 6, 4, 11406],\n",
       " [1994, 1, 7, 5, 11251],\n",
       " [1994, 1, 8, 6, 8653],\n",
       " [1994, 1, 9, 7, 7910]]"
      ]
     },
     "execution_count": 2,
     "metadata": {},
     "output_type": "execute_result"
    }
   ],
   "source": [
    "def read_csv(file_name):\n",
    "    file_open = open(file_name, 'r')\n",
    "    read_file = file_open.read()\n",
    "    header = read_file.split('\\n')\n",
    "    string_list = header[1: ((len(header))-1)]\n",
    "    final_list = []\n",
    "    for row in string_list:\n",
    "        int_fields = []\n",
    "        string_fields = row.split(',')\n",
    "        for each in string_fields:\n",
    "            int_fields.append(int(each))\n",
    "        final_list.append(int_fields)\n",
    "    return final_list\n",
    "\n",
    "cdc_list = read_csv(\"US_births_1994-2003_CDC_NCHS.csv\")\n",
    "cdc_list[0:9]\n"
   ]
  },
  {
   "cell_type": "code",
   "execution_count": 3,
   "metadata": {},
   "outputs": [
    {
     "data": {
      "text/plain": [
       "{1: 3232517,\n",
       " 2: 3018140,\n",
       " 3: 3322069,\n",
       " 4: 3185314,\n",
       " 5: 3350907,\n",
       " 6: 3296530,\n",
       " 7: 3498783,\n",
       " 8: 3525858,\n",
       " 9: 3439698,\n",
       " 10: 3378814,\n",
       " 11: 3171647,\n",
       " 12: 3289486}"
      ]
     },
     "execution_count": 3,
     "metadata": {},
     "output_type": "execute_result"
    }
   ],
   "source": [
    "def month_births(list_of_lists):\n",
    "    births_per_month = {}\n",
    "    for row in list_of_lists:\n",
    "        if row[1] in births_per_month:\n",
    "            births_per_month[row[1]] += row[4]\n",
    "        else:\n",
    "            births_per_month[row[1]] = row[4]\n",
    "    return births_per_month\n",
    "\n",
    "cdc_monthly_births = month_births(cdc_list)    \n",
    "cdc_monthly_births"
   ]
  },
  {
   "cell_type": "code",
   "execution_count": 4,
   "metadata": {},
   "outputs": [
    {
     "data": {
      "text/plain": [
       "{6: 4562111,\n",
       " 7: 4079723,\n",
       " 1: 5789166,\n",
       " 2: 6446196,\n",
       " 3: 6310481,\n",
       " 4: 6288429,\n",
       " 5: 6233657}"
      ]
     },
     "execution_count": 4,
     "metadata": {},
     "output_type": "execute_result"
    }
   ],
   "source": [
    "def dow_births(list_of_lists):\n",
    "    births_by_day = {}\n",
    "    for row in list_of_lists:\n",
    "        if row[3] in births_by_day:\n",
    "            births_by_day[row[3]] += row[4]\n",
    "        else:\n",
    "            births_by_day[row[3]] = row[4]\n",
    "    return births_by_day\n",
    "\n",
    "cdc_day_births = dow_births(cdc_list)\n",
    "cdc_day_births"
   ]
  },
  {
   "cell_type": "markdown",
   "metadata": {},
   "source": [
    "Create a function that takes a list of lists containing only integers regarding US births data and then creates a dictionary tabulating birth data for the specified key.(eg: number of births keyed by day of the week)"
   ]
  },
  {
   "cell_type": "code",
   "execution_count": 5,
   "metadata": {},
   "outputs": [],
   "source": [
    "def calc_counts(list_of_lists, column):\n",
    "    calc_dict = {}\n",
    "    for row in list_of_lists:\n",
    "        if row[column] in calc_dict:\n",
    "            calc_dict[row[column]] += row[4]\n",
    "        else:\n",
    "            calc_dict[row[column]] = row[4]\n",
    "    return calc_dict\n",
    "\n",
    "cdc_year_births = calc_counts(cdc_list, 0)\n",
    "cdc_month_births = calc_counts(cdc_list, 1)\n",
    "cdc_dom_births = calc_counts(cdc_list, 2)\n",
    "cdc_dow_births = calc_counts(cdc_list, 3)\n"
   ]
  },
  {
   "cell_type": "markdown",
   "metadata": {},
   "source": [
    "The zip function creates a shell of data. Using the zip function on two lists creates an iterator of tuples. The tuples are ordered by the order of the lists in the zip function. \n",
    "\n",
    "The .values() and .keys() functions are useful for extracting lists from a dictionary."
   ]
  },
  {
   "cell_type": "code",
   "execution_count": 6,
   "metadata": {},
   "outputs": [
    {
     "data": {
      "text/plain": [
       "dict_values([4562111, 4079723, 5789166, 6446196, 6310481, 6288429, 6233657])"
      ]
     },
     "execution_count": 6,
     "metadata": {},
     "output_type": "execute_result"
    }
   ],
   "source": [
    "values = cdc_dow_births.values()\n",
    "values"
   ]
  },
  {
   "cell_type": "code",
   "execution_count": 7,
   "metadata": {},
   "outputs": [
    {
     "name": "stdout",
     "output_type": "stream",
     "text": [
      "dict_keys([6, 7, 1, 2, 3, 4, 5])\n"
     ]
    }
   ],
   "source": [
    "keys = cdc_dow_births.keys()\n",
    "print(keys)"
   ]
  },
  {
   "cell_type": "code",
   "execution_count": 8,
   "metadata": {},
   "outputs": [
    {
     "name": "stdout",
     "output_type": "stream",
     "text": [
      "(6, 4562111)\n",
      "(7, 4079723)\n",
      "(1, 5789166)\n",
      "(2, 6446196)\n",
      "(3, 6310481)\n",
      "(4, 6288429)\n",
      "(5, 6233657)\n"
     ]
    }
   ],
   "source": [
    "# explore the function zip to use in max and min function for dictionaries.\n",
    "zippy = zip(cdc_dow_births.keys(), cdc_dow_births.values())\n",
    "for values in zippy:\n",
    "    print(values)"
   ]
  },
  {
   "cell_type": "markdown",
   "metadata": {},
   "source": [
    "Write a function that can calculate the min and max values for any dictionary that's passed in."
   ]
  },
  {
   "cell_type": "code",
   "execution_count": 9,
   "metadata": {},
   "outputs": [],
   "source": [
    "def min_and_max_dict(dictionary):\n",
    "    maxx = max(zip(dictionary.values(), dictionary.keys()))\n",
    "    return maxx\n",
    "def max_dict(dictionary):\n",
    "    maxxy = max(dictionary)\n",
    "    return maxxy\n"
   ]
  },
  {
   "cell_type": "code",
   "execution_count": 10,
   "metadata": {},
   "outputs": [
    {
     "name": "stdout",
     "output_type": "stream",
     "text": [
      "(6446196, 2)\n",
      "{6: 4562111, 7: 4079723, 1: 5789166, 2: 6446196, 3: 6310481, 4: 6288429, 5: 6233657}\n",
      "7\n"
     ]
    }
   ],
   "source": [
    "x = min_and_max_dict(cdc_dow_births)\n",
    "print(x)\n",
    "print(cdc_dow_births)\n",
    "y = max_dict(cdc_dow_births)\n",
    "print(y)"
   ]
  },
  {
   "cell_type": "markdown",
   "metadata": {},
   "source": [
    "The min and max functions compare lexicographically on the first item in a tuple. So by ordering the values list before the keys list in the zip function we create an iterator that we can the max function on to find the highest number of births in that dictionary.\n"
   ]
  },
  {
   "cell_type": "markdown",
   "metadata": {},
   "source": [
    "A possible next step is abstract and create a min and max function with optional inputs that allows you to choose to call max or min on either the keys or the values in a dictionary."
   ]
  },
  {
   "cell_type": "code",
   "execution_count": 11,
   "metadata": {},
   "outputs": [],
   "source": [
    "def min_and_max_dict(dictionary):\n",
    "    \n",
    "    maxx = max(zip(dictionary.values(), dictionary.keys()))\n",
    "    minn = min(zip(dictionary.values(), dictionary.keys()))\n",
    "    \n",
    "    return maxx, minn"
   ]
  },
  {
   "cell_type": "code",
   "execution_count": 23,
   "metadata": {},
   "outputs": [
    {
     "name": "stdout",
     "output_type": "stream",
     "text": [
      "max value in dictionary: \n",
      "(6446196, 2)\n",
      "min value in dictionary: \n",
      "(4079723, 7)\n",
      "{6: 4562111, 7: 4079723, 1: 5789166, 2: 6446196, 3: 6310481, 4: 6288429, 5: 6233657}\n"
     ]
    }
   ],
   "source": [
    "maxx, minn = min_and_max_dict(cdc_dow_births)\n",
    "print (\"max value in dictionary: \")\n",
    "print (maxx)\n",
    "print (\"min value in dictionary: \")\n",
    "print (minn)\n",
    "\n",
    "\n",
    "##verify the function against a basic dictionary\n",
    "print(cdc_dow_births)"
   ]
  },
  {
   "cell_type": "code",
   "execution_count": 27,
   "metadata": {},
   "outputs": [
    {
     "data": {
      "text/plain": [
       "[[2000, 1, 1, 6, 9083],\n",
       " [2000, 1, 2, 7, 8006],\n",
       " [2000, 1, 3, 1, 11363],\n",
       " [2000, 1, 4, 2, 13032],\n",
       " [2000, 1, 5, 3, 12558],\n",
       " [2000, 1, 6, 4, 12466],\n",
       " [2000, 1, 7, 5, 12516],\n",
       " [2000, 1, 8, 6, 8934],\n",
       " [2000, 1, 9, 7, 7949]]"
      ]
     },
     "execution_count": 27,
     "metadata": {},
     "output_type": "execute_result"
    }
   ],
   "source": [
    "ssa_list = read_csv(\"US_births_2000-2014_SSA.csv\")\n",
    "ssa_list[0:9]"
   ]
  },
  {
   "cell_type": "markdown",
   "metadata": {},
   "source": [
    "## Data format: 'year,month,date_of_month,day_of_week,births'##"
   ]
  },
  {
   "cell_type": "markdown",
   "metadata": {},
   "source": [
    "Write function that blends overlapping births data by checking for overlap and then averaging the data in the overlap.\n",
    "\n",
    "If possible try to avoid full list traversal in searching for the overlap."
   ]
  },
  {
   "cell_type": "code",
   "execution_count": 82,
   "metadata": {},
   "outputs": [
    {
     "name": "stdout",
     "output_type": "stream",
     "text": [
      "2191\n",
      "[2000, 1, 1, 6, 8843]\n",
      "[1999, 12, 31, 5, 9335]\n"
     ]
    }
   ],
   "source": [
    "def data_overlap_blender(list1, list2, year_start, year_end):\n",
    "    blend_list = []\n",
    "    for row in list1:\n",
    "        if row[0] == year_start:\n",
    "            start = list1.index(row)\n",
    "            break\n",
    "    return start\n",
    "\n",
    "start = data_overlap_blender(cdc_list, ssa_list, 2000, 2004)\n",
    "print(start)\n",
    "print(cdc_list[start])\n",
    "print(cdc_list[start-1])\n",
    "    \n",
    "            \n",
    "    \n",
    "    \n",
    "    "
   ]
  },
  {
   "cell_type": "code",
   "execution_count": 77,
   "metadata": {},
   "outputs": [],
   "source": [
    "lst1 = [2000, 1, 1, 4, 9083]\n",
    "lst2 = [2000, 1, 1, 10, 9083]\n",
    "\n",
    "if lst1[0:4] == lst2[0:4]:\n",
    "    print(\"match!\")\n",
    "\n",
    "abv_ssa = ssa_list[0:5]\n",
    "abv_cdc = cdc_list[0:5]\n",
    "lsty = [1994, 1, 3, 1, 10142]\n",
    "abv_ssa1 = abv_ssa + [[1994, 1, 3, 1, 10000]]\n",
    "\n",
    "for row in abv_cdc:\n",
    "    short = row[0:4]\n",
    "    if short in abv_ssa1:\n",
    "        print(abv_ssa1.index(row))\n",
    "\n"
   ]
  },
  {
   "cell_type": "markdown",
   "metadata": {},
   "source": [
    "Might need to create dictionary for both lists then search for first and last instances of overlap. Then use this information to traverse the correct section of the lists."
   ]
  },
  {
   "cell_type": "code",
   "execution_count": null,
   "metadata": {},
   "outputs": [],
   "source": []
  }
 ],
 "metadata": {
  "anaconda-cloud": {},
  "kernelspec": {
   "display_name": "Python 3",
   "language": "python",
   "name": "python3"
  },
  "language_info": {
   "codemirror_mode": {
    "name": "ipython",
    "version": 3
   },
   "file_extension": ".py",
   "mimetype": "text/x-python",
   "name": "python",
   "nbconvert_exporter": "python",
   "pygments_lexer": "ipython3",
   "version": "3.7.0"
  }
 },
 "nbformat": 4,
 "nbformat_minor": 1
}
