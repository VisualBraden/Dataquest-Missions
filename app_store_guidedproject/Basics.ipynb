{
 "cells": [
  {
   "cell_type": "markdown",
   "metadata": {
    "collapsed": true
   },
   "source": [
    "# Profitable App Analysis\n",
    "---\n",
    "\n",
    "This project will analyse app data from the Apple and Google markets to discover which apps attract the most users and why.\n",
    "\n",
    "The aim is to empower developers with the knowledge to build attractive apps that draw high user numbers.\n",
    "\n",
    "---"
   ]
  },
  {
   "cell_type": "code",
   "execution_count": 42,
   "metadata": {
    "collapsed": false
   },
   "outputs": [],
   "source": [
    "apple_file_open = open('AppleStore.csv')\n",
    "play_file_open = open('googleplaystore.csv')\n",
    "\n",
    "apple_read = reader(apple_file_open)\n",
    "play_read = reader(play_file_open)\n",
    "ios = list(apple_read)\n",
    "play = list(play_read)\n"
   ]
  },
  {
   "cell_type": "markdown",
   "metadata": {},
   "source": [
    "#coding in the explore_data function for myself as practice\n",
    "\n",
    "def explore_data(dataset, start, end, rows_and_columns=False):\n",
    "    dataset_slice = dataset[start:end]\n",
    "    for row in dataset_slice:\n",
    "        print(row)\n",
    "        print('\\n')\n",
    "        \n",
    "    if rows_and_columns:\n",
    "        print('Number of rows:', len(dataset))\n",
    "        print('Number of columns:', len(dataset[0]))\n",
    "    return"
   ]
  },
  {
   "cell_type": "code",
   "execution_count": 43,
   "metadata": {
    "collapsed": false
   },
   "outputs": [
    {
     "name": "stdout",
     "output_type": "stream",
     "text": [
      "['App', 'Category', 'Rating', 'Reviews', 'Size', 'Installs', 'Type', 'Price', 'Content Rating', 'Genres', 'Last Updated', 'Current Ver', 'Android Ver']\n",
      "\n",
      "\n",
      "['Photo Editor & Candy Camera & Grid & ScrapBook', 'ART_AND_DESIGN', '4.1', '159', '19M', '10,000+', 'Free', '0', 'Everyone', 'Art & Design', 'January 7, 2018', '1.0.0', '4.0.3 and up']\n",
      "\n",
      "\n",
      "Number of rows: 10842\n",
      "Number of columns: 13\n"
     ]
    }
   ],
   "source": [
    "#expore the play store data structure\n",
    "explore_data(play,0,2,True)"
   ]
  },
  {
   "cell_type": "markdown",
   "metadata": {},
   "source": [
    ">The play store data contains a header and so gives a misleading account"
   ]
  },
  {
   "cell_type": "code",
   "execution_count": 44,
   "metadata": {
    "collapsed": false
   },
   "outputs": [
    {
     "name": "stdout",
     "output_type": "stream",
     "text": [
      "['id', 'track_name', 'size_bytes', 'currency', 'price', 'rating_count_tot', 'rating_count_ver', 'user_rating', 'user_rating_ver', 'ver', 'cont_rating', 'prime_genre', 'sup_devices.num', 'ipadSc_urls.num', 'lang.num', 'vpp_lic']\n",
      "\n",
      "\n",
      "['284882215', 'Facebook', '389879808', 'USD', '0.0', '2974676', '212', '3.5', '3.5', '95.0', '4+', 'Social Networking', '37', '1', '29', '1']\n",
      "\n",
      "\n",
      "Number of rows: 7198\n",
      "Number of columns: 16\n"
     ]
    }
   ],
   "source": [
    "explore_data(ios,0,2,True)"
   ]
  },
  {
   "cell_type": "code",
   "execution_count": 45,
   "metadata": {
    "collapsed": true
   },
   "outputs": [],
   "source": [
    "def header_break(header_row):\n",
    "    counter = 1\n",
    "    for col in header_row:\n",
    "        bullet = (str(counter) +'.'+ str(col))\n",
    "        print(bullet)\n",
    "        counter+=1\n",
    "    return"
   ]
  },
  {
   "cell_type": "markdown",
   "metadata": {},
   "source": [
    ">The data categories in the Google Play store ate shown below. For a more detailed explanation of the data types click [here](https://www.kaggle.com/lava18/google-play-store-apps)\n"
   ]
  },
  {
   "cell_type": "code",
   "execution_count": 47,
   "metadata": {
    "collapsed": false
   },
   "outputs": [
    {
     "name": "stdout",
     "output_type": "stream",
     "text": [
      "1.App\n",
      "2.Category\n",
      "3.Rating\n",
      "4.Reviews\n",
      "5.Size\n",
      "6.Installs\n",
      "7.Type\n",
      "8.Price\n",
      "9.Content Rating\n",
      "10.Genres\n",
      "11.Last Updated\n",
      "12.Current Ver\n",
      "13.Android Ver\n"
     ]
    }
   ],
   "source": [
    "header_break(play[0])"
   ]
  },
  {
   "cell_type": "markdown",
   "metadata": {},
   "source": [
    ">I am more interested in Category, Rating, Reviews and Installs for this analysis"
   ]
  },
  {
   "cell_type": "markdown",
   "metadata": {},
   "source": [
    ">The data categories in the Apple store are shown below. For a more detailed explanation of the data types click [here](https://www.kaggle.com/ramamet4/app-store-apple-data-set-10k-apps/home)\n"
   ]
  },
  {
   "cell_type": "code",
   "execution_count": 49,
   "metadata": {
    "collapsed": false
   },
   "outputs": [
    {
     "name": "stdout",
     "output_type": "stream",
     "text": [
      "1.id\n",
      "2.track_name\n",
      "3.size_bytes\n",
      "4.currency\n",
      "5.price\n",
      "6.rating_count_tot\n",
      "7.rating_count_ver\n",
      "8.user_rating\n",
      "9.user_rating_ver\n",
      "10.ver\n",
      "11.cont_rating\n",
      "12.prime_genre\n",
      "13.sup_devices.num\n",
      "14.ipadSc_urls.num\n",
      "15.lang.num\n",
      "16.vpp_lic\n"
     ]
    }
   ],
   "source": [
    "header_break(ios[0])"
   ]
  },
  {
   "cell_type": "markdown",
   "metadata": {},
   "source": [
    "> Apple categories that are useful for this analysis include track_name, rating_count_tot, user_rating and prime_genre"
   ]
  },
  {
   "cell_type": "code",
   "execution_count": null,
   "metadata": {
    "collapsed": true
   },
   "outputs": [],
   "source": []
  }
 ],
 "metadata": {
  "kernelspec": {
   "display_name": "Python 3",
   "language": "python",
   "name": "python3"
  },
  "language_info": {
   "codemirror_mode": {
    "name": "ipython",
    "version": 3
   },
   "file_extension": ".py",
   "mimetype": "text/x-python",
   "name": "python",
   "nbconvert_exporter": "python",
   "pygments_lexer": "ipython3",
   "version": "3.4.3"
  }
 },
 "nbformat": 4,
 "nbformat_minor": 2
}
