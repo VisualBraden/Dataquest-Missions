{
 "cells": [
  {
   "cell_type": "markdown",
   "metadata": {
    "collapsed": true
   },
   "source": [
    "###  Hacker News Posts Analysis\n",
    "\n",
    "Working with a simplified version of the HN data set to determine which posts recieve the most comments."
   ]
  },
  {
   "cell_type": "code",
   "execution_count": 45,
   "metadata": {
    "collapsed": true
   },
   "outputs": [],
   "source": [
    "#import all libraries necessary here\n",
    "from csv import reader\n",
    "import datetime as dt"
   ]
  },
  {
   "cell_type": "code",
   "execution_count": 46,
   "metadata": {
    "collapsed": false
   },
   "outputs": [
    {
     "name": "stdout",
     "output_type": "stream",
     "text": [
      "['id', 'title', 'url', 'num_points', 'num_comments', 'author', 'created_at']\n",
      "['12224879', 'Interactive Dynamic Video', 'http://www.interactivedynamicvideo.com/', '386', '52', 'ne0phyte', '8/4/2016 11:52']\n"
     ]
    }
   ],
   "source": [
    "#read in the csv into a list of lists\n",
    "\n",
    "opened = open(\"hacker_news.csv\")\n",
    "read = reader(opened)\n",
    "hn = list(read)\n",
    "headers = hn[0]\n",
    "hn = hn[1:]\n",
    "print(headers)\n",
    "print(hn[0])\n"
   ]
  },
  {
   "cell_type": "code",
   "execution_count": 47,
   "metadata": {
    "collapsed": false
   },
   "outputs": [
    {
     "name": "stdout",
     "output_type": "stream",
     "text": [
      "1744\n",
      "1162\n",
      "17194\n",
      "20100\n"
     ]
    }
   ],
   "source": [
    "#Sort for posts starting with Ask HN and Show HN\n",
    "ask_posts =[]\n",
    "show_posts = []\n",
    "other_posts = []\n",
    "\n",
    "for row in hn:\n",
    "    title = row[1]\n",
    "    lower_title = title.lower()\n",
    "    if lower_title.startswith('ask hn'):\n",
    "        ask_posts.append(row)\n",
    "    elif lower_title.startswith('show hn'):\n",
    "        show_posts.append(row)\n",
    "    else:\n",
    "        other_posts.append(row)\n",
    "        \n",
    "print(len(ask_posts))\n",
    "print(len(show_posts))\n",
    "print(len(other_posts))\n",
    "print(len(hn))"
   ]
  },
  {
   "cell_type": "markdown",
   "metadata": {
    "collapsed": true
   },
   "source": [
    ">Do Ask or Show posts recieve more comments on average?"
   ]
  },
  {
   "cell_type": "code",
   "execution_count": 48,
   "metadata": {
    "collapsed": false
   },
   "outputs": [
    {
     "name": "stdout",
     "output_type": "stream",
     "text": [
      "The average number of comments on ask posts were 14.0\n",
      "The average number of comments on show posts were 10.3\n"
     ]
    }
   ],
   "source": [
    "#Total Ask comments\n",
    "total_ask_comments = 0\n",
    "for row in ask_posts:\n",
    "    num_comments = row[4]\n",
    "    num_comments = int(num_comments)\n",
    "    total_ask_comments += num_comments\n",
    "\n",
    "# Average ask comments\n",
    "avg_ask_comments = total_ask_comments / len(ask_posts)\n",
    "print(\"The average number of comments on ask posts were {:.1f}\".format(avg_ask_comments))\n",
    "\n",
    "#Total Show comments\n",
    "total_show_comments = 0\n",
    "for row in show_posts:\n",
    "    num_comments = row[4]\n",
    "    num_comments = int(num_comments)\n",
    "    total_show_comments += num_comments\n",
    "    \n",
    "#Average show comments\n",
    "avg_show_comments = total_show_comments / len(show_posts)\n",
    "print(\"The average number of comments on show posts were {:.1f}\".format(avg_show_comments))\n"
   ]
  },
  {
   "cell_type": "markdown",
   "metadata": {
    "collapsed": true
   },
   "source": [
    "> Ask Posts have more comments on average"
   ]
  },
  {
   "cell_type": "markdown",
   "metadata": {
    "collapsed": true
   },
   "source": [
    "#### Do 'Ask Hn\" posts posted in certain hours recieve more comments?"
   ]
  },
  {
   "cell_type": "code",
   "execution_count": 49,
   "metadata": {
    "collapsed": false
   },
   "outputs": [
    {
     "name": "stdout",
     "output_type": "stream",
     "text": [
      "[['8/16/2016 9:55', 6], ['11/22/2015 13:43', 29]]\n",
      "[['12296411', 'Ask HN: How to improve my personal website?', '', '2', '6', 'ahmedbaracat', '8/16/2016 9:55'], ['10610020', 'Ask HN: Am I the only one outraged by Twitter shutting down share counts?', '', '28', '29', 'tkfx', '11/22/2015 13:43']]\n"
     ]
    }
   ],
   "source": [
    "#Calculate number of comments in each hour of the day for Ask Hn posts\n",
    "\n",
    "result_list = []\n",
    "for row in ask_posts:\n",
    "    created_at = row[6]\n",
    "    num_comments = int(row[4])\n",
    "    new_list = [created_at, num_comments]\n",
    "    result_list.append(new_list)\n",
    "    \n",
    "print(result_list[0:2])\n",
    "print(ask_posts[0:2])\n",
    "    "
   ]
  },
  {
   "cell_type": "code",
   "execution_count": 50,
   "metadata": {
    "collapsed": false
   },
   "outputs": [
    {
     "name": "stdout",
     "output_type": "stream",
     "text": [
      "{'17': 100, '06': 44, '22': 71, '18': 109, '02': 58, '23': 68, '05': 46, '13': 85, '03': 54, '19': 110, '12': 73, '04': 47, '16': 108, '11': 58, '15': 116, '01': 60, '14': 107, '09': 45, '08': 48, '21': 109, '07': 34, '20': 80, '10': 59, '00': 55}\n",
      "{'17': 1146, '06': 397, '22': 479, '18': 1439, '02': 1381, '23': 543, '05': 464, '13': 1253, '03': 421, '19': 1188, '12': 687, '04': 337, '16': 1814, '11': 641, '15': 4477, '01': 683, '14': 1416, '09': 251, '08': 492, '21': 1745, '07': 267, '20': 1722, '10': 793, '00': 447}\n"
     ]
    }
   ],
   "source": [
    "#Create dictionaries to aid computation\n",
    "\n",
    "counts_by_hour = {}\n",
    "comments_by_hour = {}\n",
    "\n",
    "for row in result_list:\n",
    "    time_obj = dt.datetime.strptime(row[0],\"%m/%d/%Y %H:%M\")\n",
    "    hour_created = dt.datetime.strftime(time_obj, '%H')\n",
    "    if hour_created not in counts_by_hour:\n",
    "        counts_by_hour[hour_created] = 1\n",
    "        comments_by_hour[hour_created] = row[1]\n",
    "    else:\n",
    "        counts_by_hour[hour_created] += 1\n",
    "        comments_by_hour[hour_created] += row[1]\n",
    "        \n",
    "    \n",
    "print(counts_by_hour)\n",
    "print(comments_by_hour)"
   ]
  },
  {
   "cell_type": "markdown",
   "metadata": {},
   "source": [
    ">Create a list of lists containing the hours  during which posts were created and the average number of comments those posts received."
   ]
  },
  {
   "cell_type": "code",
   "execution_count": 51,
   "metadata": {
    "collapsed": false,
    "scrolled": false
   },
   "outputs": [
    {
     "name": "stdout",
     "output_type": "stream",
     "text": [
      "[['17', 11.5], ['06', 9.0], ['22', 6.7], ['18', 13.2], ['02', 23.8], ['23', 8.0], ['05', 10.1], ['13', 14.7], ['03', 7.8], ['19', 10.8], ['12', 9.4], ['04', 7.2], ['16', 16.8], ['11', 11.1], ['15', 38.6], ['01', 11.4], ['14', 13.2], ['09', 5.6], ['08', 10.2], ['21', 16.0], ['07', 7.9], ['20', 21.5], ['10', 13.4], ['00', 8.1]]\n"
     ]
    }
   ],
   "source": [
    "avg_by_hour = []\n",
    "for item in counts_by_hour:\n",
    "    avg_comments = round(comments_by_hour[item] / counts_by_hour[item], 1)\n",
    "    sub_list = [item, avg_comments]\n",
    "    avg_by_hour.append(sub_list)\n",
    "    \n",
    "print(avg_by_hour)"
   ]
  },
  {
   "cell_type": "markdown",
   "metadata": {},
   "source": [
    "> Sort the list of lists to make it easier to read"
   ]
  },
  {
   "cell_type": "code",
   "execution_count": 54,
   "metadata": {
    "collapsed": false
   },
   "outputs": [
    {
     "name": "stdout",
     "output_type": "stream",
     "text": [
      "[[11.5, '17'], [9.0, '06'], [6.7, '22'], [13.2, '18'], [23.8, '02'], [8.0, '23'], [10.1, '05'], [14.7, '13'], [7.8, '03'], [10.8, '19'], [9.4, '12'], [7.2, '04'], [16.8, '16'], [11.1, '11'], [38.6, '15'], [11.4, '01'], [13.2, '14'], [5.6, '09'], [10.2, '08'], [16.0, '21'], [7.9, '07'], [21.5, '20'], [13.4, '10'], [8.1, '00']]\n",
      "[38.6, '15']\n"
     ]
    }
   ],
   "source": [
    "swap_avg_by_hour = []\n",
    "for item in avg_by_hour:\n",
    "    sub_list = [item[1], item[0]]\n",
    "    swap_avg_by_hour.append(sub_list)\n",
    "print(swap_avg_by_hour)\n",
    "print(max(swap_avg_by_hour))"
   ]
  },
  {
   "cell_type": "code",
   "execution_count": 56,
   "metadata": {
    "collapsed": false
   },
   "outputs": [
    {
     "name": "stdout",
     "output_type": "stream",
     "text": [
      "Top 5 Hours for Ask Posts Comments (Eastern Standard Time) \n",
      "\n",
      "Hour 15 : average of 38.6 comments\n",
      "Hour 02 : average of 23.8 comments\n",
      "Hour 20 : average of 21.5 comments\n",
      "Hour 16 : average of 16.8 comments\n",
      "Hour 21 : average of 16.0 comments\n"
     ]
    }
   ],
   "source": [
    "sorted_swap = sorted(swap_avg_by_hour, reverse=True)\n",
    "print(\"Top 5 Hours for Ask Posts Comments (Eastern Standard Time) \\n\")\n",
    "for item in sorted_swap[0:5]:\n",
    "    dt_hour = dt.datetime.strptime(item[1], \"%H\")\n",
    "    str_hour = dt.datetime.strftime(dt_hour, \"%H\")\n",
    "    template = \"Hour {} : average of {} comments\"\n",
    "    print(template.format(str_hour,item[0]))\n",
    "    "
   ]
  },
  {
   "cell_type": "code",
   "execution_count": 58,
   "metadata": {
    "collapsed": false
   },
   "outputs": [
    {
     "name": "stdout",
     "output_type": "stream",
     "text": [
      "Top 5 Hours for Ask Posts Comments (New Zealand Time) \n",
      "\n",
      "Hour 07 : average of 38.6 comments\n",
      "Hour 18 : average of 23.8 comments\n",
      "Hour 12 : average of 21.5 comments\n",
      "Hour 08 : average of 16.8 comments\n",
      "Hour 13 : average of 16.0 comments\n"
     ]
    }
   ],
   "source": [
    "# convert times to Auckland timezone from Eastern Time US (9hr delta)\n",
    "sorted_swap_nz = []\n",
    "for item in sorted_swap:\n",
    "    nz_time = int(item[1]) + 16\n",
    "    if nz_time >= 24:\n",
    "        nz_time = nz_time - 24\n",
    "    if nz_time < 10:\n",
    "        str_hour = \"0\" + str(nz_time)\n",
    "    else:\n",
    "        str_hour = str(nz_time)\n",
    "        \n",
    "    sub_list = [item[0], str_hour]\n",
    "    sorted_swap_nz.append(sub_list)\n",
    "\n",
    "print(\"Top 5 Hours for Ask Posts Comments (New Zealand Time) \\n\")\n",
    "for item in sorted_swap_nz[0:5]:\n",
    "    dt_hour = dt.datetime.strptime(item[1], \"%H\")\n",
    "    str_hour = dt.datetime.strftime(dt_hour, \"%H\")\n",
    "    template = \"Hour {} : average of {} comments\"\n",
    "    print(template.format(str_hour,item[0]))\n",
    "    "
   ]
  },
  {
   "cell_type": "markdown",
   "metadata": {},
   "source": [
    "## Findings\n",
    "\n",
    "For people living in UTC +12 the best hours for posting to Hacker News for maximum impact (as measured by the average number of comments in those hours) are 7AM, 6PM, and 12PM in descending order. "
   ]
  },
  {
   "cell_type": "code",
   "execution_count": null,
   "metadata": {
    "collapsed": true
   },
   "outputs": [],
   "source": []
  }
 ],
 "metadata": {
  "kernelspec": {
   "display_name": "Python 3",
   "language": "python",
   "name": "python3"
  },
  "language_info": {
   "codemirror_mode": {
    "name": "ipython",
    "version": 3
   },
   "file_extension": ".py",
   "mimetype": "text/x-python",
   "name": "python",
   "nbconvert_exporter": "python",
   "pygments_lexer": "ipython3",
   "version": "3.4.3"
  }
 },
 "nbformat": 4,
 "nbformat_minor": 2
}
